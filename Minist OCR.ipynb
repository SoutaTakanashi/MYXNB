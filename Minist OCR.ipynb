{
 "cells": [
  {
   "cell_type": "code",
   "execution_count": 1,
   "id": "33fa2f19",
   "metadata": {},
   "outputs": [
    {
     "name": "stdout",
     "output_type": "stream",
     "text": [
      "torch.Size([28, 28])\n"
     ]
    }
   ],
   "source": [
    "import os\n",
    "from skimage import io\n",
    "import torchvision.datasets.mnist as mnist\n",
    "\n",
    "# read the emnist dataset \n",
    "train_set = (\n",
    "mnist.read_image_file('./dataset/emnist-mnist-train-images-idx3-ubyte/emnist-mnist-train-images-idx3-ubyte'),\n",
    "mnist.read_label_file('./dataset/emnist-mnist-train-labels-idx1-ubyte/emnist-mnist-train-labels-idx1-ubyte')\n",
    ")\n",
    "test_set = (\n",
    "mnist.read_image_file('./dataset/emnist-mnist-train-images-idx3-ubyte/emnist-mnist-train-images-idx3-ubyte'),\n",
    "mnist.read_label_file('./dataset/emnist-mnist-train-labels-idx1-ubyte/emnist-mnist-train-labels-idx1-ubyte')\n",
    ")\n",
    "#They are in 'tensor' type.\n",
    "\n",
    "print(train_set[0][1].shape)\n",
    "\n"
   ]
  },
  {
   "cell_type": "code",
   "execution_count": 2,
   "id": "e8772501",
   "metadata": {},
   "outputs": [
    {
     "name": "stdout",
     "output_type": "stream",
     "text": [
      "Pictures(train) already converted.\n",
      "Pictures(test) already converted.\n"
     ]
    }
   ],
   "source": [
    "def convert_to_img(train=True):\n",
    "    \n",
    "    if train:  # 如果是训练数据\n",
    "        f = open('train.txt', 'w')\n",
    "        data_path ='train/' # 好像可以删去左边的/\n",
    "        # 如果不存在就新建\n",
    "        if not os.path.exists(data_path):\n",
    "            os.makedirs(data_path)\n",
    "            # enumerate将可遍历对象 组合成索引 可加参数start=2 索引从2开始\n",
    "        for i, (img, label) in enumerate(zip(train_set[0], train_set[1])):\n",
    "            img_path = data_path+str(i)+'.jpg'\n",
    "            # 保存图片\n",
    "            io.imsave(img_path, img.numpy())\n",
    "            # 保存标号文件路径和标号\n",
    "            f.write(img_path + ' ' + str(label.item()) + '\\n')\n",
    "\n",
    "        f.close()\n",
    "    else:\n",
    "        f = open('test.txt', 'w')\n",
    "        data_path ='test/'\n",
    "        if not os.path.exists(data_path):\n",
    "            os.makedirs(data_path)\n",
    "        for i, (img, label) in enumerate(zip(test_set[0], test_set[1])):\n",
    "            img_path = data_path + str(i) + '.jpg'\n",
    "            io.imsave(img_path, img.numpy())\n",
    "            f.write(img_path + ' ' + str(label.item()) + '\\n')\n",
    "        f.close()\n",
    "\n",
    "\n",
    "if os.path.exists('train'): #如果目录不存在就返回False\n",
    "    print(\"Pictures(train) already converted.\")\n",
    "\n",
    "else:\n",
    "    print(\"Building training set...\")\n",
    "    convert_to_img(True)\n",
    "    print(\"叮！图像转换完成！赞美太阳！\")\n",
    "\n",
    "if os.path.exists('test'):  # 如果目录不存在就返回False\n",
    "    print(\"Pictures(test) already converted.\")\n",
    "else:\n",
    "    print(\"Building test set...\")\n",
    "    convert_to_img(False)\n",
    "    print(\"叮！图像转换完成！赞美太阳！\")\n"
   ]
  },
  {
   "cell_type": "code",
   "execution_count": 3,
   "id": "4ad0a69c",
   "metadata": {},
   "outputs": [],
   "source": [
    "from torchvision import transforms\n",
    "from torch.utils.data import Dataset, DataLoader\n",
    "from PIL import Image\n",
    "def default_loader(path):\n",
    "    return Image.open(path).convert('RGB')\n",
    "\n",
    "\n",
    "class MyDataset(Dataset):\n",
    "    # txt是路径和文件名\n",
    "    def __init__(self, txt, transform=transforms.ToTensor(), target_transform=None, loader=default_loader):\n",
    "        fh = open(txt, 'r')  # 只读打开\n",
    "        imgs = []\n",
    "        for line in fh:\n",
    "            line = line.strip('\\n')  # 删除 回车\n",
    "            line = line.rstrip()  # 删除 右侧 空格\n",
    "            words = line.split()  # 分割：就两列，0列是路径 1列是标号\n",
    "\n",
    "            imgs.append((words[0], int(words[1]))) # (address,label)\n",
    "        self.imgs = imgs\n",
    "        self.transform = transform\n",
    "        self.target_transform = target_transform\n",
    "        self.loader = loader  # 是个函数\n",
    "\n",
    "    # train_loader里面的\n",
    "    def __getitem__(self, index):\n",
    "        fn, label = self.imgs[index]   # fn是完整路径 label是标号\n",
    "        img = self.loader(fn)  # 调用上面的default_loader(path) 按照路径读取图片\n",
    "        if self.transform is not None:\n",
    "            img = self.transform(img)  # 将图片转换成FloatTensor类型\n",
    "        return img, label\n",
    "\n",
    "    def __len__(self):\n",
    "        return len(self.imgs)"
   ]
  },
  {
   "cell_type": "code",
   "execution_count": 4,
   "id": "f3f1e009",
   "metadata": {},
   "outputs": [
    {
     "name": "stdout",
     "output_type": "stream",
     "text": [
      "Reading train_data...\n",
      "Reading test_data...\n"
     ]
    }
   ],
   "source": [
    "print(\"Reading train_data...\")\n",
    "train_data = MyDataset(txt='train.txt', transform=transforms.ToTensor())\n",
    "# from torch.utils.data import Dataset, DataLoader 下面的函数在这里\n",
    "train_loader = DataLoader(dataset=train_data, batch_size=50, shuffle=True)\n",
    "print(\"Reading test_data...\")\n",
    "test_data = MyDataset(txt='test.txt', transform=transforms.ToTensor())\n",
    "test_loader = DataLoader(dataset=test_data, batch_size=50,shuffle=False)"
   ]
  },
  {
   "cell_type": "code",
   "execution_count": 5,
   "id": "a6c0786a",
   "metadata": {},
   "outputs": [],
   "source": [
    "import torch.nn\n",
    "class Net(torch.nn.Module):\n",
    "    def __init__(self):\n",
    "        super(Net, self).__init__()\n",
    "        self.conv1 = torch.nn.Sequential(  # (1,28,28)\n",
    "            torch.nn.Conv2d(3, 16, 5,1,2),  # (16,28,28)\n",
    "            # 想要con2d卷积出来的图片尺寸没有变化, padding=(kernel_size-1)/2\n",
    "            torch.nn.ReLU(),\n",
    "            torch.nn.MaxPool2d(kernel_size=2)  # (16,14,14)\n",
    "        )\n",
    "        self.conv2 = torch.nn.Sequential(\n",
    "           torch.nn.Conv2d(16, 64, 3), # (64,12,12)\n",
    "           torch.nn.ReLU(),\n",
    "           torch.nn.MaxPool2d(2) # (64,6,6)\n",
    "       )\n",
    "        self.conv3 = torch.nn.Sequential(\n",
    "           torch.nn.Conv2d(64, 64, 3),# (64,4,4)\n",
    "           torch.nn.ReLU(),\n",
    "           torch.nn.MaxPool2d(2)# (64,2,2)\n",
    "       )\n",
    "        self.fc = torch.nn.Linear(256,10)\n",
    "    def forward(self, x):\n",
    "        x = self.conv1(x)\n",
    "        x = self.conv2(x)\n",
    "        x = self.conv3(x)\n",
    "        x = x.view(x.size(0), -1)  # 将（batch，64,2,2）展平为（batch，256）\n",
    "        x = self.fc(x)\n",
    "        return x"
   ]
  },
  {
   "cell_type": "code",
   "execution_count": 8,
   "id": "9935d121",
   "metadata": {},
   "outputs": [],
   "source": [
    "import torch.optim as optim\n",
    "model = Net()\n",
    "# construct loss and optimizer\n",
    "criterion = torch.nn.CrossEntropyLoss()\n",
    "optimizer = optim.SGD(model.parameters(), lr=0.01, momentum=0.5)"
   ]
  },
  {
   "cell_type": "code",
   "execution_count": 9,
   "id": "26a0e679",
   "metadata": {},
   "outputs": [],
   "source": [
    "def train(epoch):\n",
    "    running_loss = 0.0\n",
    "    for batch_idx, data in enumerate(train_loader, 0):\n",
    "        inputs, target = data\n",
    "        optimizer.zero_grad()\n",
    "        outputs = model(inputs)\n",
    "        loss = criterion(outputs, target)\n",
    "        loss.backward()\n",
    "        optimizer.step()\n",
    "        running_loss += loss.item()\n",
    "        if batch_idx % 300 == 299:\n",
    "            print('[%d, %5d] loss: %.3f' % (epoch+1, batch_idx+1, running_loss/300))\n",
    "            running_loss = 0.0"
   ]
  },
  {
   "cell_type": "code",
   "execution_count": 12,
   "id": "075b3799",
   "metadata": {},
   "outputs": [],
   "source": [
    "import torch\n",
    "def test():\n",
    "    correct = 0\n",
    "    total = 0\n",
    "    with torch.no_grad():\n",
    "        for data in test_loader:\n",
    "            images, labels = data\n",
    "            outputs = model(images)\n",
    "            _, predicted = torch.max(outputs.data, dim=1)\n",
    "            total += labels.size(0)\n",
    "            correct += (predicted == labels).sum().item()\n",
    "    print('accuracy on test set: %d %% ' % (100*correct/total))"
   ]
  },
  {
   "cell_type": "code",
   "execution_count": null,
   "id": "55f39c9d",
   "metadata": {},
   "outputs": [
    {
     "name": "stdout",
     "output_type": "stream",
     "text": [
      "[1,   300] loss: 0.107\n",
      "[1,   600] loss: 0.098\n",
      "[1,   900] loss: 0.086\n",
      "[1,  1200] loss: 0.078\n",
      "accuracy on test set: 97 % \n",
      "[2,   300] loss: 0.071\n"
     ]
    }
   ],
   "source": [
    "if __name__ == '__main__':\n",
    "    for epoch in range(10):\n",
    "        train(epoch)\n",
    "        test()"
   ]
  },
  {
   "cell_type": "code",
   "execution_count": null,
   "id": "ba45fc1f",
   "metadata": {},
   "outputs": [],
   "source": []
  }
 ],
 "metadata": {
  "kernelspec": {
   "display_name": "Python [conda env:pytorch] *",
   "language": "python",
   "name": "conda-env-pytorch-py"
  },
  "language_info": {
   "codemirror_mode": {
    "name": "ipython",
    "version": 3
   },
   "file_extension": ".py",
   "mimetype": "text/x-python",
   "name": "python",
   "nbconvert_exporter": "python",
   "pygments_lexer": "ipython3",
   "version": "3.6.13"
  }
 },
 "nbformat": 4,
 "nbformat_minor": 5
}
