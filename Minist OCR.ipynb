{
 "cells": [
  {
   "cell_type": "code",
   "execution_count": null,
   "id": "33fa2f19",
   "metadata": {},
   "outputs": [],
   "source": [
    "from mlxtend.data import loadlocal_mnist\n",
    "import platform\n",
    "import matplotlib.pyplot as plt\n",
    "import numpy as np\n",
    "if platform.system()=='Windows':\n",
    "        X,y=loadlocal_mnist(\n",
    "            images_path='gzip\\emnist-mnist-train-images-idx3-ubyte\\emnist-mnist-train-images-idx3-ubyte',\n",
    "            labels_path='gzip\\emnist-mnist-train-labels-idx1-ubyte\\emnist-mnist-train-labels-idx1-ubyte'\n",
    "        )\n",
    "        #X:(60000,784) i.e. 60000images, size:28*28\n",
    "img=[]\n",
    "for images in X:\n",
    "    img.append(np.array(images).reshape(28,28))\n",
    "\n",
    "plt.imshow(img[59998])\n",
    "plt.show()\n",
    "print(y)"
   ]
  }
 ],
 "metadata": {
  "kernelspec": {
   "display_name": "pytorch",
   "language": "python",
   "name": "pytorch"
  },
  "language_info": {
   "codemirror_mode": {
    "name": "ipython",
    "version": 3
   },
   "file_extension": ".py",
   "mimetype": "text/x-python",
   "name": "python",
   "nbconvert_exporter": "python",
   "pygments_lexer": "ipython3",
   "version": "3.9.7"
  }
 },
 "nbformat": 4,
 "nbformat_minor": 5
}
